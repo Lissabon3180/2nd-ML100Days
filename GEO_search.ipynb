{
  "nbformat": 4,
  "nbformat_minor": 0,
  "metadata": {
    "colab": {
      "provenance": [],
      "toc_visible": true,
      "authorship_tag": "ABX9TyNET83CV2nBBEaH0RSQHjzb",
      "include_colab_link": true
    },
    "kernelspec": {
      "name": "python3",
      "display_name": "Python 3"
    },
    "language_info": {
      "name": "python"
    }
  },
  "cells": [
    {
      "cell_type": "markdown",
      "metadata": {
        "id": "view-in-github",
        "colab_type": "text"
      },
      "source": [
        "<a href=\"https://colab.research.google.com/github/Lissabon3180/2nd-ML100Days/blob/master/GEO_search.ipynb\" target=\"_parent\"><img src=\"https://colab.research.google.com/assets/colab-badge.svg\" alt=\"Open In Colab\"/></a>"
      ]
    },
    {
      "cell_type": "code",
      "execution_count": 5,
      "metadata": {
        "colab": {
          "base_uri": "https://localhost:8080/"
        },
        "id": "JX2XurvmjiN-",
        "outputId": "2accdc09-ba84-4235-ea27-7b00bfc74200"
      },
      "outputs": [
        {
          "output_type": "stream",
          "name": "stdout",
          "text": [
            "['https://eutils.ncbi.nlm.nih.gov/entrez/eutils/esearch.fcgi?db=nucleotide&term=Alzheimer_disease']\n"
          ]
        }
      ],
      "source": [
        "import requests as r\n",
        "database_list = ['pubmed','nucleotide','protein','gene','snp','genome']\n",
        "term = ['Alzheimer_disease']\n",
        "\n",
        "url = ['https://eutils.ncbi.nlm.nih.gov/entrez/eutils/esearch.fcgi?'+'db={}&'.format(database_list[1])+\n",
        "       'term={}'.format(term[0])]\n",
        "print(url)\n"
      ]
    },
    {
      "cell_type": "code",
      "source": [
        "search =r.post(url[0])\n"
      ],
      "metadata": {
        "id": "zh-J4NhPnRJs"
      },
      "execution_count": 8,
      "outputs": []
    },
    {
      "cell_type": "code",
      "source": [
        "import xml.etree.ElementTree as ET\n",
        "\n",
        "root = ET.fromstring(search.text)\n",
        "ids = [elem.text for elem in root.findall(\".//Id\")]\n",
        "print(ids)"
      ],
      "metadata": {
        "colab": {
          "base_uri": "https://localhost:8080/"
        },
        "id": "QPDYno2rn01j",
        "outputId": "1357916d-dde1-451b-8840-40473cda0ec7"
      },
      "execution_count": 10,
      "outputs": [
        {
          "output_type": "stream",
          "name": "stdout",
          "text": [
            "['2248185797', '2248185796', '2248185795', '2248185793', '2248185791', '2248185788', '2248185786', '2248185785', '2248185781', '2248185780', '2248185755', '2248185713', '2248185705', '2248185699', '2248185697', '2248185685', '2248185683', '2248185681', '2248185680', '2248185676']\n"
          ]
        }
      ]
    },
    {
      "cell_type": "code",
      "source": [
        "import requests as r\n",
        "import xml.etree.ElementTree as ET\n",
        "def get_id_list(database_name, search_term,search_show,search_start=0):\n",
        "  url = ['https://eutils.ncbi.nlm.nih.gov/entrez/eutils/esearch.fcgi?'+'db={}&'.format(database_name)+\n",
        "       'term={}&'.format(search_term)+'retmax={}&'.format(search_show)+'retstart={}'.format(search_start)]\n",
        "  search = r.post(url[0])\n",
        "  root = ET.fromstring(search.text)\n",
        "  msg = root.findtext(\".//OutputMessage\")\n",
        "  if msg == \"No items found.\":\n",
        "    print(msg)\n",
        "  else:\n",
        "    count = root.findtext(\".//Count\")\n",
        "    max = root.findtext(\".//RetMax\")\n",
        "    start = root.findtext(\".//RetStart\")\n",
        "    print('Total search count={}'.format(count)+'\\nTotal search show={}'.format(max)+'\\nSearch starts={}'.format(start))\n",
        "    ids = [elem.text for elem in root.findall(\".//Id\")]\n",
        "    return ids\n",
        "  return\n",
        "\n",
        "\n",
        "\n"
      ],
      "metadata": {
        "id": "dRLDXW18tKXN"
      },
      "execution_count": 44,
      "outputs": []
    },
    {
      "cell_type": "code",
      "source": [
        "ids = get_id_list(database_name='nucleotide',search_term='Alzheimer_disease',search_show=50)\n",
        "ids_2 = get_id_list(database_name='nucleotide',search_term='Alzheimer_disease',search_show=50,search_start=50)\n",
        "\n",
        "print(ids)\n",
        "print(ids_2)"
      ],
      "metadata": {
        "colab": {
          "base_uri": "https://localhost:8080/"
        },
        "id": "iqTQNfKJxZw_",
        "outputId": "a0d680c0-39af-4cc8-a1cf-49aa1808e88e"
      },
      "execution_count": 46,
      "outputs": [
        {
          "output_type": "stream",
          "name": "stdout",
          "text": [
            "Total search count=1803\n",
            "Total search show=50\n",
            "Search starts=0\n",
            "Total search count=1803\n",
            "Total search show=50\n",
            "Search starts=50\n",
            "['2248185797', '2248185796', '2248185795', '2248185793', '2248185791', '2248185788', '2248185786', '2248185785', '2248185781', '2248185780', '2248185755', '2248185713', '2248185705', '2248185699', '2248185697', '2248185685', '2248185683', '2248185681', '2248185680', '2248185676', '2248185674', '2248185669', '2248185652', '2248185639', '2248185638', '2248185624', '2248185620', '2248185617', '2248185613', '2248185595', '2248185591', '2248185583', '2248185581', '2248185575', '2248185571', '2248185567', '2248185563', '2248185559', '2248185553', '2248185551', '2248185547', '2248185535', '2980406923', '339276008', '2178610463', '1376175689', '803378412', '803378410', '802084028', '802084019']\n",
            "['312433963', '1890358915', '1890358909', '1890358900', '1890341731', '1890277527', '1890268134', '1890268102', '1890266953', '1519473746', '330443531', '329138879', '296143999', '2949374409', '2226801291', '2226801072', '2226800967', '1890284606', '1676317381', '3003568799', '1546674230', '1519244434', '1519243441', '1519241571', '1512484527', '1371983461', '1371981715', '1371981155', '1371980322', '1371979898', '1371978942', '1371978602', '1104876320', '575403067', '575403065', '575403063', '575403061', '575403059', '380862373', '299758395', '259013222', '131412206', '131412197', '131412177', '56606081', '47271512', '1889523134', '1519312542', '1519243389', '1519243380']\n"
          ]
        }
      ]
    },
    {
      "cell_type": "code",
      "source": [
        "ids_list = ids+ids_2\n",
        "ids_list"
      ],
      "metadata": {
        "colab": {
          "base_uri": "https://localhost:8080/"
        },
        "collapsed": true,
        "id": "D8UtKYo1373k",
        "outputId": "d9726eef-ff8e-4d10-ba84-3ad78114485e"
      },
      "execution_count": 48,
      "outputs": [
        {
          "output_type": "execute_result",
          "data": {
            "text/plain": [
              "['2248185797',\n",
              " '2248185796',\n",
              " '2248185795',\n",
              " '2248185793',\n",
              " '2248185791',\n",
              " '2248185788',\n",
              " '2248185786',\n",
              " '2248185785',\n",
              " '2248185781',\n",
              " '2248185780',\n",
              " '2248185755',\n",
              " '2248185713',\n",
              " '2248185705',\n",
              " '2248185699',\n",
              " '2248185697',\n",
              " '2248185685',\n",
              " '2248185683',\n",
              " '2248185681',\n",
              " '2248185680',\n",
              " '2248185676',\n",
              " '2248185674',\n",
              " '2248185669',\n",
              " '2248185652',\n",
              " '2248185639',\n",
              " '2248185638',\n",
              " '2248185624',\n",
              " '2248185620',\n",
              " '2248185617',\n",
              " '2248185613',\n",
              " '2248185595',\n",
              " '2248185591',\n",
              " '2248185583',\n",
              " '2248185581',\n",
              " '2248185575',\n",
              " '2248185571',\n",
              " '2248185567',\n",
              " '2248185563',\n",
              " '2248185559',\n",
              " '2248185553',\n",
              " '2248185551',\n",
              " '2248185547',\n",
              " '2248185535',\n",
              " '2980406923',\n",
              " '339276008',\n",
              " '2178610463',\n",
              " '1376175689',\n",
              " '803378412',\n",
              " '803378410',\n",
              " '802084028',\n",
              " '802084019',\n",
              " '312433963',\n",
              " '1890358915',\n",
              " '1890358909',\n",
              " '1890358900',\n",
              " '1890341731',\n",
              " '1890277527',\n",
              " '1890268134',\n",
              " '1890268102',\n",
              " '1890266953',\n",
              " '1519473746',\n",
              " '330443531',\n",
              " '329138879',\n",
              " '296143999',\n",
              " '2949374409',\n",
              " '2226801291',\n",
              " '2226801072',\n",
              " '2226800967',\n",
              " '1890284606',\n",
              " '1676317381',\n",
              " '3003568799',\n",
              " '1546674230',\n",
              " '1519244434',\n",
              " '1519243441',\n",
              " '1519241571',\n",
              " '1512484527',\n",
              " '1371983461',\n",
              " '1371981715',\n",
              " '1371981155',\n",
              " '1371980322',\n",
              " '1371979898',\n",
              " '1371978942',\n",
              " '1371978602',\n",
              " '1104876320',\n",
              " '575403067',\n",
              " '575403065',\n",
              " '575403063',\n",
              " '575403061',\n",
              " '575403059',\n",
              " '380862373',\n",
              " '299758395',\n",
              " '259013222',\n",
              " '131412206',\n",
              " '131412197',\n",
              " '131412177',\n",
              " '56606081',\n",
              " '47271512',\n",
              " '1889523134',\n",
              " '1519312542',\n",
              " '1519243389',\n",
              " '1519243380']"
            ]
          },
          "metadata": {},
          "execution_count": 48
        }
      ]
    },
    {
      "cell_type": "code",
      "source": [
        "len(ids_list)"
      ],
      "metadata": {
        "colab": {
          "base_uri": "https://localhost:8080/"
        },
        "id": "HkgyWh0k4DSj",
        "outputId": "bdb9b3e1-3426-4373-90aa-cdf11eeee4d4"
      },
      "execution_count": 49,
      "outputs": [
        {
          "output_type": "execute_result",
          "data": {
            "text/plain": [
              "100"
            ]
          },
          "metadata": {},
          "execution_count": 49
        }
      ]
    },
    {
      "cell_type": "code",
      "source": [
        "url = ['https://eutils.ncbi.nlm.nih.gov/entrez/eutils/esummary.fcgi?'+'db={}&'.format(database_list[1])+\n",
        "       'id={}'.format(ids[0])]\n",
        "data = r.post(url[0])\n"
      ],
      "metadata": {
        "id": "38194oT3rugt"
      },
      "execution_count": 16,
      "outputs": []
    },
    {
      "cell_type": "code",
      "source": [
        "data.text"
      ],
      "metadata": {
        "colab": {
          "base_uri": "https://localhost:8080/",
          "height": 122
        },
        "id": "WlVHU-TFsPvb",
        "outputId": "17a17452-793c-4cb5-8b27-50d1ab6e793e"
      },
      "execution_count": 17,
      "outputs": [
        {
          "output_type": "execute_result",
          "data": {
            "text/plain": [
              "'<?xml version=\"1.0\" encoding=\"UTF-8\" ?>\\n<!DOCTYPE eSummaryResult PUBLIC \"-//NLM//DTD esummary v1 20041029//EN\" \"https://eutils.ncbi.nlm.nih.gov/eutils/dtd/20041029/esummary-v1.dtd\">\\n<eSummaryResult>\\n<DocSum>\\n\\t<Id>2248185797</Id>\\n\\t<Item Name=\"Caption\" Type=\"String\">NR_176379</Item>\\n\\t<Item Name=\"Title\" Type=\"String\">Mus musculus serine/arginine-rich protein specific kinase 2 (Srpk2), transcript variant 40, non-coding RNA</Item>\\n\\t<Item Name=\"Extra\" Type=\"String\">gi|2248185797|ref|NR_176379.1|[2248185797]</Item>\\n\\t<Item Name=\"Gi\" Type=\"Integer\">2248185797</Item>\\n\\t<Item Name=\"CreateDate\" Type=\"String\">2022/06/02</Item>\\n\\t<Item Name=\"UpdateDate\" Type=\"String\">2025/07/31</Item>\\n\\t<Item Name=\"Flags\" Type=\"Integer\">512</Item>\\n\\t<Item Name=\"TaxId\" Type=\"Integer\">10090</Item>\\n\\t<Item Name=\"Length\" Type=\"Integer\">6503</Item>\\n\\t<Item Name=\"Status\" Type=\"String\">live</Item>\\n\\t<Item Name=\"ReplacedBy\" Type=\"String\"></Item>\\n\\t<Item Name=\"Comment\" Type=\"String\"><![CDATA[  ]]></Item>\\n\\t<Item Name=\"AccessionVersion\" Type=\"String\">NR_176379.1</Item>\\n</DocSum>\\n\\n</eSummaryResult>\\n'"
            ],
            "application/vnd.google.colaboratory.intrinsic+json": {
              "type": "string"
            }
          },
          "metadata": {},
          "execution_count": 17
        }
      ]
    },
    {
      "cell_type": "code",
      "source": [
        "url = ['https://eutils.ncbi.nlm.nih.gov/entrez/eutils/efetch.fcgi?'+'db={}&'.format(database_list[1])+\n",
        "       'id={}&'.format(ids[0])+'strand=l&'+'seq_start={}&'.format(1)+'seq_stop={}&'.format(100)+\n",
        "       'rettype=fasta&'+'retmode=text']\n",
        "fasta = r.post(url[0])"
      ],
      "metadata": {
        "id": "YEVI-EdvuE0E"
      },
      "execution_count": 21,
      "outputs": []
    },
    {
      "cell_type": "code",
      "source": [
        "url = ['https://eutils.ncbi.nlm.nih.gov/entrez/eutils/efetch.fcgi?'+'db={}&'.format(database_list[1])+\n",
        "       'id={}&'.format(ids[0])+'strand=l&'+\n",
        "       'rettype=fasta&'+'retmode=text']\n",
        "fasta = r.post(url[0])"
      ],
      "metadata": {
        "id": "0YxwgfVWu-U7"
      },
      "execution_count": 24,
      "outputs": []
    },
    {
      "cell_type": "code",
      "source": [
        "fasta.text"
      ],
      "metadata": {
        "colab": {
          "base_uri": "https://localhost:8080/",
          "height": 122
        },
        "id": "YSia23iXuwtz",
        "outputId": "8630fbbe-731c-4a05-dca2-2b1b53ba9111"
      },
      "execution_count": 25,
      "outputs": [
        {
          "output_type": "execute_result",
          "data": {
            "text/plain": [
              "'>NR_176379.1 Mus musculus serine/arginine-rich protein specific kinase 2 (Srpk2), transcript variant 40, non-coding RNA\\nAGGCCTGGTGCCTCGGAGCCGTTTCCCTTTATAGCACCATTGAATCCGAGTCCTAAGAGAAGTGCTGTGA\\nATCTTGTGGCCTCATTCTGAACAAAAGGGATTAGGGAAGAAAAATCTCTTGATATAAGGCTTGTAAGCAA\\nGGGCGGGCAATCTTGGTTGTGAATATTTTCTGATTTTTCCAGAAATCAAGCAGAAGACTGAGCTGCTGAT\\nGTCAGTTAACTCTGAGAAGTCGTCCTCTTCAGAAAGGCCGGAGCCTCAACAGAAAGCTCCTTTAGTTCCT\\nCCTCCTCCACCACCACCACCGCCACCACCACTGCCAGACCCCGCACCCCCAGAGCCAGAGGAGGAGATTC\\nTGGGGTCAGATGATGAGGAGCAGGAGGACCCCGCAGATTACTGCAAAGGTGGCTATCATCCAGTGAAAAT\\nTGGAGATCTCTTCAATGGTCGATATCATGTCATTAGAAAGCTAGGATGGGGGCACTTTTCTACTGTATGG\\nCTGTGCTGGGATATGCAAGGGAAAAGATTTGTTGCAATGAAAGTTGTAAAAAGTGCCCAGCATTATACAG\\nAGACAGCCTTGGATGAAATTAAACTACTCAAATGCGTTCGAGAAAGTGACCCCAGTGACCCAAACAAAGA\\nCATGGTAGTTCAGCTAATTGATGACTTCAAGATCTCAGGCATGAATGGGATACATGTCTGCATGGTCTTT\\nGAAGTACTTGGTCACCATCTCCTCAAATGGATCATCAAATCCAACTATCAAGGCCTCCCAGTACGTTGTG\\nTGAAGAGTATCATTCGACAGGTCCTTCAAGGGTTAGATTATCTACACAGTAAGTGCAAGATAATTCACAC\\nCGACATAAAGCCGGAAAACATCTTGATGTGTGTGGATGACGCTTACGTGAGAAGAATGGCAGCCGAAGCC\\nACGGAGTGGCAGAAAGCAGGTGCTCCTCCTCCCTCTGGGTCTGCAGATAGGAAAAATATCTAAAAACAAA\\nAAGAAAAAGCTGAAAAAGAAACAGAAGAGACAGGCTGAGTTGCTGGAGAAACGCCTACAGGAGATTGAGG\\nAATTGGAGCGAGAAGCCGAAAGGAAAATCCTAGAGGAGAACATCACCTCTGCAGAAGCTTCCGGGGAGCA\\nGCAGGATGGAGAGTACCAGCCGGAGGTGACACTGAAAGCAGCCGACTTAGAGGACACAACTGAGGAAGAG\\nACAGCAAAGGATAATGGTGAAGTTGAAGACCAGGAAGAGAAAGAAGATGCAGAGAAGGAGAACGCGGAGA\\nAGGATGAAGATGATGTTGAACAGGAACTTGCAAACTTAGACCCTACCTGGGTGGAGTCCCCGAAAGCCAA\\nTGGCCATATTGAAAATGGCCCGTTCTCACTGGAGCAGCAGCTGGAGGATGAAGAGGACGATGAAGATGAC\\nTGTGCAAATCCCGAGGAGTATAACCTCGATGAGCCAAATGCAGAGAGTGATTACACGTATAGCAGCTCCT\\nATGAACAATTCAATGGTGAATTGCCAAATGGACAACATAAGACTTCAGAGTTTCCCACACCGTTGTTTTC\\nTGGGCCCTTAGAACCTGTGGCCTGTGGCTCTGTGATTTCAGAGGGATCGCCACTTACCGAGCAGGAGGAA\\nAGCAGTCCCTCCCATGACAGAAGCAGGACAGTTTCAGCCTCTAGTACTGGAGATTTGCCAAAAACAAAAA\\nCCCGGGCGGCTGACCTGTTGGTGAACCCTCTGGATCCACGGAATGCAGATAAAATTAGAGTAAAAATTGC\\nTGACCTGGGAAATGCTTGTTGGGTGCATAAACATTTCACAGAGGATATCCAGACACGTCAGTATAGGTCC\\nATAGAGGTTTTAATAGGAGCAGGCTACAGCACACCTGCAGACATTTGGAGTACAGCTTGCATGGCATTTG\\nAGCTCGCCACAGGAGACTATTTGTTCGAACCGCATTCTGGGGAAGACTATTCCAGAGATGAAGATCACAT\\nAGCATTGATCATTGAACTGCTGGGGAAAGTCCCTCGAAAATACGCTATGTTGGGGAAATATTCCAAGGAG\\nTTTTTCACCAGAAAAGGAGAACTGCGGCACATCACCAAGCTGAAGCCCTGGAGCCTCTTTGATGTACTTG\\nTGGAAAAGTATGGCTGGCCCCATGAAGATGCTGCACAATTTACAGATTTCCTGATCCCAATGTTAGAGAT\\nGGTTCCAGAAAAACGAGCCTCAGCTGGCGAATGCCTTCGACATCCTTGGTTGAATTCTTAGCAGATTCTA\\nCAAATATAGCATTCTGAGCTAGCAAATTTCTCCCAGTACATTGGACCTACACAGTGGCTCTCATTCTTTA\\nACAGGATTACCAGTGAGCTGGCTCCACCCTCAGACCTTTGTAGTGCTTTGAGGTACTGTTGTTTGACACT\\nTTGCTTCCTGTGCACCATGGTCCTGGGGAAGGCTGGTCTTTGTCTTCAGCTAAGTAGTTTACTGGCCATT\\nTTCTTCTGGAAACAATAACATGTCTCTAAGCATTGTTTCTTGTGTTGTGTGACATTCAAATGTCTTTTTT\\nTTTTTTTGAACGAAAAATACTTTCCCTTTTGTGTTTTGGCAGGTTCTGTAACTATTTATGAAGACATATT\\nTTAGCTGAGTATTATATAATTTACAATCTTAAGAAATTATCAGTTGGAACCAAGAAAGAGCAAGGAAATG\\nTACAATTTTATCGTCTGGCAAAGGGAAATCATTCCTGTATTATACTAGTGTATGTAACTATTACTTTGCA\\nTAAATAGGGGATGAGGATTCACATTCAGAAAAGCTACCCAGTCCTGAGCGCTTTTTGGCCTACATTGCAT\\nGTTGCAGATTTCCACTGCTTCAGAAAGTTGCACAAACTTTTCATTCCATAACAACCCAAGTGGTTCTGGA\\nCGAGGTGCCATGCCCTCTGTGGCACTTTAAAGAGAGAAAAACTTTAAAAATTTGACACTATAATCTAGCA\\nGTTCCATTTGTATTTTGCATATTTTTAAGCTATGTTTAAAGTATCAGTCATTTCCACTTAAAATGTGATG\\nGCCCAATCCCCGGTAGTGTCACCTCTCACCAGCACTGTAAGTTAAATACGTAGATTAAATTGGACAAGAG\\nAAATATGTTCAGTGTGTGGAATGAAAAAAATATTTTTTGAAAAGCATGATCGTGTTTGTTTAAAACACAA\\nGGCGTGGCTTAGACAGTTTGCAACGCAGTGGACCGAGCACTCCTCACAGCTTCAAGGTAACAGCGACCGT\\nGCCCATGCCGTCCTAGGCAGCTTCCCTTCCCTCGCCTTTTCCTTACCTCCCATGAATGAGAAGGCCATTT\\nCCCCTTTGCAGACCGCATACAGTTTTAGTTTATGCATTTCCTTAAAATTAACTGTAGAATCCAGGATACA\\nAACCATTAGTAGGCAATACTATTTTAGAATGTAACATAGGAGGTGTATTTAGCCTCTTTTAGAAGTCAGT\\nGGGTTGAATGTCTTTTTTTTAAAAATTTTTATTCATTAAGGTGCCTCGTTTTTCTTGACTTTGTCCATTA\\nACATTTATTCATATGCCTTTGCAATAATTAGATTGTGAAAAGCTAACAAGTGTTGTAACAATAATCCTTT\\nGTTTGGGGTGCTTGCACTTGTCTTAAAAATTAAAGTGTTTTGGGGTGTTTTTCCAGACATTGCCTTGCTT\\nATTACCCTGTATTTCAAGAGACAGAATCAACATACCTTTGCTCTCTGTAGTGTCAACAAAGCTAAAGGAG\\nTTGCAGATTGTCACAGAACATACATTAAGGCAGAATGGATTTATGAACGAGGCTTTAGTTATAGCTTCAT\\nTATCTACAATGTGGGTGTTCCCTTTTTTTAATCAGTGTTTCATCGTAAGTGCAATGGTTTCCTCCCCTGT\\nCCCCTCCAATCTTTCCCTGTGTGAACAAGACACATATCCTTCTTAGGGTTTAACATTTTTATATCATACA\\nCTGTAGTAAGATAGACGATGCCACTCATTCACAAACTATGCATGCTGGGTTTTTCCAATGAGGCTGTGCG\\nTTTCCTTATAGAGCCTATGACAAATGGTGGCTGCTGAGTCATGATTTCTATAGAAACATTCCTATAAGAA\\nCCACAGAGTGTGTTTATGTTTTCCCTACCTCTGAAAGAACTTTTACCATTTGAATGAAATTTGTCTAATG\\nAGGTTAGAAATGTCAAATTGGAAAAGGAAGCTAGAATATTAATCTTAAGGTGGTTCTTCTATTAATAATA\\nCCCTAGCGAGTGTATGATATACCAAGGAGTTCTAGCATACACTTTTGTGATTGGGTACCATATGGTTATA\\nTCTGATTCTTGGTAGCATGATGATAAAGAATAAATGTAAAGGTTGGGTGTGGTGGTGCACTCCTTTAATA\\nTCAGCACTTGGGAGGCAGAGGCAGGAAGATCTCTGAGGCCAGCCTGTTCTGCATAAGCTCCAGGCCACCC\\nAAGGTTATATAGTGAAGGAAAATCTAGGAAGAAAAAAGAATAAAAGCTTAAAGTGAACCATTGGTTATTT\\nGGAACATTATAGCCAAGTCAGTCTTTTTAGTGAAAAGACCCTATGAAATCTTCATGGAAAATTACAAGCA\\nGTGGGTCTCACATGTGACTTTAGCAGATCCAGAAATAGCTAATCTAAAAAATGGCAGAACCATCCAGAGA\\nAAAAGTAGTAGGGAGTGTAAAAGAAGTCTACTCTTTAACGAGATCTGCTTGTTTGTCCATATTCCCTGCA\\nCCATGCATAACTTAACAGGTATGAGTAAAAAAAACTTTCATTGGAATAGAAAACACGTTCGGATTATTTT\\nTCTTTTCTTATTTTGTGAGGCAAGGACTCGGAGATCTGCCTACCTAGGCATGCCACCCCTCACTACCCCC\\nCCCCCCACACACACACAATCTCTCTCTGAATTAGAAGTTTGTAGAGTGTGTCCATTAAAGATTCTATTTA\\nGTTGAAGTGTTTCAGTTTGCAGAAGAGCTCTCGTTATGAATTACTTAGCTAGCTGGCTACTTTAAGTCTG\\nTGGACAAGTGATTTTAAGGGTGAATATTGCCATTTCTTTGGTCTGTCTGAAATTGTCATGGAGGGACACA\\nATGTGAACCTGTCAGTTTTCAGATTCAGGTTTCTTTGGTAAGCATCCTAAGGAGAACATGGGCAAGTTTC\\nTTCAGAAACTTGGGTCACTGATTTTAAGCCCTAAATGAGCTGTATTCTCGAATATCATCAGAGTTAATTT\\nTCAAATGGGAATTAAATGATAAAACATGATTTAAGTCACTACCAAATCTAATTTCTTGAGTTTGCTGTTT\\nTTCCTGATGCACAAAATTTATATACTGGGCCCAATTGTGTCACATGTTTGGAAGGTGGTAAATAGGGCCA\\nCTCCTGAGAGGTAGACAGCAGAAGCTGATAATTAAAAAAAAAAAGTCACAACTGGTATATCTTCTTTCAG\\nTAATAAAATATTCACTGAAACCCTCTTCATTCTATTTGACGTATTTCAGAATAATGCCTTTCGCCCTTGG\\nTTTTGTTTAAAGAGACCTATTTTCTACAACTTAAAGCCCTAAAGCTAGTATTAAACATATTTTCATATCA\\nGTTTTGATTAGTGGAGCTATTTCAGTCATATTTTATACTGTACAAATTAAATCTCCCTGTTTTAAGTAAA\\nTTACTCCTTTTCAAACTGCGTTAAACTGCAGTGTGCAACTATACAGTATGGAATGCATCAATAATGTGGA\\nTTAATGTTGTAGTAGAATGTTAGGTTCTTAGACTGTTAGCTAAGTCGCATAGAGTGGCTATTTAATTTCC\\nTCTGACCCGTGCTTCTAAAGGAAAGGCAAGCAGTAGAGAGGACCGTGAGACTCACCCAGATCGGCTGCTG\\nGTAGCCTGCAGTGCAGCTGAGGTAGCAGCTACCGAAGAAAATGAATGATTCTTTACTTACAAATTATATT\\nTGAAAATCTTAACTTTTGTAAAATCATTAAGCAGACCTCAATCTCAGAAGTTGTACAGAACAATTTAGTA\\nAAACTGACATAATTGTGGTTTATTAACATGAATTAAAATGCCCAACCAGTGCTTCAATGTGACAGCGTAT\\nTGAAATAAAAAGGAAAGGTCATGTGCTGTACTACTTTCACAGAGATCACACGTTTGCAGCAGACTTGCCA\\nTATGTACAGTGCTATATTCCAAATGAAAAGGGCGGGAGCAATTATATACGCAAAGGAAATTCAGTATTTA\\nCAGTCTGTCAGGAGACACTAAAAATTATCTATACATTAAATTACATTTTGCTTGCAAAAAACTGATAAAA\\nCAATATGAGCCATGTCCACACCAAATCATAAAAACCTGTATTGCATTTTCAGACCTAAGATGCACTCAAA\\nTAACTGCTGACCATAAAAAAAAAAGGAAATCCTTAGTGCTTTCTTTAACTGTATACTTAATGCATATGTA\\nTAAAATAATACAGAAAATATTCATTAAATGAATTTAACTGCAACAATGAAATTTAAAGGTCATGTATCAT\\nCAGATCTATGGTCAGAAAAACAGTTGGAATGTTCACTTACAAAATAAAGATACCTACAGCTGG\\n\\n'"
            ],
            "application/vnd.google.colaboratory.intrinsic+json": {
              "type": "string"
            }
          },
          "metadata": {},
          "execution_count": 25
        }
      ]
    }
  ]
}